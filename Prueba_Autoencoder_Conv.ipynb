{
 "cells": [
  {
   "attachments": {},
   "cell_type": "markdown",
   "metadata": {},
   "source": [
    "IMPORT LIBRARIES"
   ]
  },
  {
   "cell_type": "code",
   "execution_count": 1,
   "metadata": {},
   "outputs": [],
   "source": [
    "import numpy as np\n",
    "import copy\n",
    "import random\n",
    "import time\n",
    "import tensorflow as tf\n",
    "import matplotlib.pyplot as plt\n",
    "from sklearn.model_selection import train_test_split\n",
    "import GraphData as sgl\n",
    "from subroutines_imagenes_microscopio import *"
   ]
  },
  {
   "attachments": {},
   "cell_type": "markdown",
   "metadata": {},
   "source": [
    "LOAD DATA, PREPARE SHAPE AND NORMALIZED"
   ]
  },
  {
   "cell_type": "code",
   "execution_count": 2,
   "metadata": {},
   "outputs": [
    {
     "name": "stdout",
     "output_type": "stream",
     "text": [
      "(4096, 64, 64)\n",
      "(4096,)\n"
     ]
    }
   ],
   "source": [
    "# Read the data \n",
    "f = open(\"data_imagenes_recortadas.bin\",\"rb\")\n",
    "np_subimagenes = np.load(f)\n",
    "np_sublabels = np.load(f)\n",
    "np_index = np.load(f)\n",
    "f.close()\n",
    "\n",
    "# Choose only the first image (4096 subimages)\n",
    "subimages = np.zeros((4096, 64, 64))\n",
    "sublabels = np.zeros((4096,))\n",
    "index = np.zeros((4096,))\n",
    "for i in range (4096):\n",
    "    subimages[i] = np_subimagenes[i]\n",
    "    sublabels[i] = np_sublabels[i]\n",
    "    index[i] = np_index[i]\n",
    "\n",
    "# Dimension of the data \n",
    "number_of_images, width, height = subimages.shape\n",
    "print(subimages.shape)\n",
    "print(index.shape)\n",
    "\n",
    "# Setting maximum value of the pixel = 1 \n",
    "maximum = subimages.max()\n",
    "subimages = subimages / maximum\n",
    "\n",
    "mean = subimages.mean() \n",
    "std = subimages.flatten().std()\n",
    "\n",
    "strech_factor = 5\n",
    "subimages = strech_factor * (subimages - mean + strech_factor * std)\n"
   ]
  },
  {
   "attachments": {},
   "cell_type": "markdown",
   "metadata": {},
   "source": [
    "PARAMETERS FOR THE CALCULATION"
   ]
  },
  {
   "cell_type": "code",
   "execution_count": 3,
   "metadata": {},
   "outputs": [],
   "source": [
    "# Paremeter for decide if we want to run or load the network\n",
    "run_NeuralNetwork = True\n",
    "\n",
    "# Parameters that control the calculation\n",
    "train_ratio = 0.89\n",
    "val_ratio = 0.1\n",
    "test_ratio = 0.01"
   ]
  },
  {
   "attachments": {},
   "cell_type": "markdown",
   "metadata": {},
   "source": [
    "SPLIT TRAINING, VALIDATION AND TEST DATA"
   ]
  },
  {
   "cell_type": "code",
   "execution_count": 4,
   "metadata": {},
   "outputs": [
    {
     "name": "stdout",
     "output_type": "stream",
     "text": [
      "(3645, 64, 64)\n"
     ]
    }
   ],
   "source": [
    "# Creating the training, validation and test sets \n",
    "x_train, x_val, x_test, y_val, y_train, y_test =\\\n",
    "    split_train_val_test(subimages, index, train_ratio, val_ratio, test_ratio)\n",
    "    \n",
    "ntrain, nval, ntest = x_train.shape[0], x_val.shape[0], x_test.shape[0]\n",
    "\n",
    "# Reshape each image to the input shape\n",
    "input_channels = 1 #Fake colour\n",
    "x_train_conv2D = x_train.reshape((ntrain, width, height, input_channels))\n",
    "x_val_conv2D = x_val.reshape((nval, width, height, input_channels))\n",
    "x_test_conv2D = x_test.reshape((ntest, width, height, input_channels))\n",
    "\n",
    "img_cols = x_train_conv2D.shape[1]\n",
    "img_rows = x_train_conv2D.shape[2]\n",
    "input_shape = (img_cols, img_rows, input_channels)\n",
    "\n",
    "print(x_train.shape)"
   ]
  },
  {
   "attachments": {},
   "cell_type": "markdown",
   "metadata": {},
   "source": [
    "AUTOENCODER"
   ]
  },
  {
   "cell_type": "code",
   "execution_count": 8,
   "metadata": {},
   "outputs": [
    {
     "name": "stdout",
     "output_type": "stream",
     "text": [
      "Model: \"sequential_1\"\n",
      "_________________________________________________________________\n",
      " Layer (type)                Output Shape              Param #   \n",
      "=================================================================\n",
      " conv2d_4 (Conv2D)           (None, 64, 64, 8)         80        \n",
      "                                                                 \n",
      " max_pooling2d_3 (MaxPooling  (None, 32, 32, 8)        0         \n",
      " 2D)                                                             \n",
      "                                                                 \n",
      " conv2d_5 (Conv2D)           (None, 32, 32, 16)        1168      \n",
      "                                                                 \n",
      " max_pooling2d_4 (MaxPooling  (None, 16, 16, 16)       0         \n",
      " 2D)                                                             \n",
      "                                                                 \n",
      " conv2d_6 (Conv2D)           (None, 16, 16, 32)        4640      \n",
      "                                                                 \n",
      " max_pooling2d_5 (MaxPooling  (None, 8, 8, 32)         0         \n",
      " 2D)                                                             \n",
      "                                                                 \n",
      " conv2d_7 (Conv2D)           (None, 8, 8, 64)          18496     \n",
      "                                                                 \n",
      " flatten_1 (Flatten)         (None, 4096)              0         \n",
      "                                                                 \n",
      " dense_1 (Dense)             (None, 4096)              16781312  \n",
      "                                                                 \n",
      " reshape_1 (Reshape)         (None, 64, 64, 1)         0         \n",
      "                                                                 \n",
      "=================================================================\n",
      "Total params: 16,805,696\n",
      "Trainable params: 16,805,696\n",
      "Non-trainable params: 0\n",
      "_________________________________________________________________\n",
      "Epoch 1/50\n",
      "57/57 [==============================] - 34s 496ms/step - loss: 0.0126 - root_mean_squared_error: 0.1120 - val_loss: 0.0122 - val_root_mean_squared_error: 0.1104\n",
      "Epoch 2/50\n",
      "57/57 [==============================] - 27s 479ms/step - loss: 0.0119 - root_mean_squared_error: 0.1090 - val_loss: 0.0120 - val_root_mean_squared_error: 0.1095\n",
      "Epoch 3/50\n",
      "57/57 [==============================] - 28s 492ms/step - loss: 0.0117 - root_mean_squared_error: 0.1080 - val_loss: 0.0116 - val_root_mean_squared_error: 0.1078\n",
      "Epoch 4/50\n",
      "57/57 [==============================] - 28s 494ms/step - loss: 0.0110 - root_mean_squared_error: 0.1050 - val_loss: 0.0105 - val_root_mean_squared_error: 0.1026\n",
      "Epoch 5/50\n",
      "57/57 [==============================] - 28s 484ms/step - loss: 0.0096 - root_mean_squared_error: 0.0980 - val_loss: 0.0089 - val_root_mean_squared_error: 0.0944\n",
      "Epoch 6/50\n",
      "57/57 [==============================] - 28s 487ms/step - loss: 0.0084 - root_mean_squared_error: 0.0916 - val_loss: 0.0081 - val_root_mean_squared_error: 0.0902\n",
      "Epoch 7/50\n",
      "57/57 [==============================] - 28s 496ms/step - loss: 0.0080 - root_mean_squared_error: 0.0894 - val_loss: 0.0079 - val_root_mean_squared_error: 0.0890\n",
      "Epoch 8/50\n",
      "57/57 [==============================] - 27s 478ms/step - loss: 0.0078 - root_mean_squared_error: 0.0883 - val_loss: 0.0078 - val_root_mean_squared_error: 0.0882\n",
      "Epoch 9/50\n",
      "57/57 [==============================] - 27s 479ms/step - loss: 0.0077 - root_mean_squared_error: 0.0877 - val_loss: 0.0077 - val_root_mean_squared_error: 0.0877\n",
      "Epoch 10/50\n",
      "57/57 [==============================] - 27s 483ms/step - loss: 0.0076 - root_mean_squared_error: 0.0873 - val_loss: 0.0077 - val_root_mean_squared_error: 0.0875\n",
      "Epoch 11/50\n",
      "57/57 [==============================] - 28s 485ms/step - loss: 0.0076 - root_mean_squared_error: 0.0870 - val_loss: 0.0076 - val_root_mean_squared_error: 0.0872\n",
      "Epoch 12/50\n",
      "57/57 [==============================] - 27s 481ms/step - loss: 0.0075 - root_mean_squared_error: 0.0868 - val_loss: 0.0076 - val_root_mean_squared_error: 0.0871\n",
      "Epoch 13/50\n",
      "57/57 [==============================] - 28s 482ms/step - loss: 0.0075 - root_mean_squared_error: 0.0867 - val_loss: 0.0076 - val_root_mean_squared_error: 0.0870\n",
      "Epoch 14/50\n",
      "57/57 [==============================] - 27s 478ms/step - loss: 0.0075 - root_mean_squared_error: 0.0865 - val_loss: 0.0075 - val_root_mean_squared_error: 0.0868\n",
      "Epoch 15/50\n",
      "57/57 [==============================] - 28s 500ms/step - loss: 0.0075 - root_mean_squared_error: 0.0864 - val_loss: 0.0075 - val_root_mean_squared_error: 0.0868\n",
      "Epoch 16/50\n",
      "57/57 [==============================] - 28s 493ms/step - loss: 0.0074 - root_mean_squared_error: 0.0863 - val_loss: 0.0075 - val_root_mean_squared_error: 0.0866\n",
      "Epoch 17/50\n",
      "57/57 [==============================] - 27s 480ms/step - loss: 0.0074 - root_mean_squared_error: 0.0861 - val_loss: 0.0075 - val_root_mean_squared_error: 0.0864\n",
      "Epoch 18/50\n",
      "57/57 [==============================] - 27s 480ms/step - loss: 0.0074 - root_mean_squared_error: 0.0860 - val_loss: 0.0075 - val_root_mean_squared_error: 0.0864\n",
      "Epoch 19/50\n",
      "57/57 [==============================] - 28s 489ms/step - loss: 0.0074 - root_mean_squared_error: 0.0859 - val_loss: 0.0074 - val_root_mean_squared_error: 0.0863\n",
      "Epoch 20/50\n",
      "57/57 [==============================] - 27s 474ms/step - loss: 0.0074 - root_mean_squared_error: 0.0858 - val_loss: 0.0074 - val_root_mean_squared_error: 0.0862\n",
      "Epoch 21/50\n",
      "57/57 [==============================] - 27s 481ms/step - loss: 0.0073 - root_mean_squared_error: 0.0857 - val_loss: 0.0074 - val_root_mean_squared_error: 0.0861\n",
      "Epoch 22/50\n",
      "57/57 [==============================] - 27s 480ms/step - loss: 0.0073 - root_mean_squared_error: 0.0856 - val_loss: 0.0074 - val_root_mean_squared_error: 0.0860\n",
      "Epoch 23/50\n",
      "57/57 [==============================] - 27s 483ms/step - loss: 0.0073 - root_mean_squared_error: 0.0855 - val_loss: 0.0074 - val_root_mean_squared_error: 0.0859\n",
      "Epoch 24/50\n",
      "57/57 [==============================] - 28s 492ms/step - loss: 0.0073 - root_mean_squared_error: 0.0854 - val_loss: 0.0074 - val_root_mean_squared_error: 0.0859\n",
      "Epoch 25/50\n",
      "57/57 [==============================] - 27s 481ms/step - loss: 0.0073 - root_mean_squared_error: 0.0853 - val_loss: 0.0074 - val_root_mean_squared_error: 0.0858\n",
      "Epoch 26/50\n",
      "57/57 [==============================] - 31s 544ms/step - loss: 0.0073 - root_mean_squared_error: 0.0852 - val_loss: 0.0074 - val_root_mean_squared_error: 0.0858\n",
      "Epoch 27/50\n",
      "57/57 [==============================] - 30s 528ms/step - loss: 0.0072 - root_mean_squared_error: 0.0851 - val_loss: 0.0073 - val_root_mean_squared_error: 0.0857\n",
      "Epoch 28/50\n",
      "57/57 [==============================] - 28s 500ms/step - loss: 0.0072 - root_mean_squared_error: 0.0851 - val_loss: 0.0073 - val_root_mean_squared_error: 0.0856\n",
      "Epoch 29/50\n",
      "57/57 [==============================] - 29s 516ms/step - loss: 0.0072 - root_mean_squared_error: 0.0850 - val_loss: 0.0073 - val_root_mean_squared_error: 0.0856\n",
      "Epoch 30/50\n",
      "57/57 [==============================] - 28s 492ms/step - loss: 0.0072 - root_mean_squared_error: 0.0849 - val_loss: 0.0073 - val_root_mean_squared_error: 0.0855\n",
      "Epoch 31/50\n",
      "57/57 [==============================] - 29s 508ms/step - loss: 0.0072 - root_mean_squared_error: 0.0849 - val_loss: 0.0073 - val_root_mean_squared_error: 0.0855\n",
      "Epoch 32/50\n",
      "57/57 [==============================] - 29s 503ms/step - loss: 0.0072 - root_mean_squared_error: 0.0848 - val_loss: 0.0073 - val_root_mean_squared_error: 0.0854\n",
      "Epoch 33/50\n",
      "57/57 [==============================] - 30s 526ms/step - loss: 0.0072 - root_mean_squared_error: 0.0847 - val_loss: 0.0073 - val_root_mean_squared_error: 0.0854\n",
      "Epoch 34/50\n",
      "57/57 [==============================] - 29s 505ms/step - loss: 0.0072 - root_mean_squared_error: 0.0846 - val_loss: 0.0073 - val_root_mean_squared_error: 0.0853\n",
      "Epoch 35/50\n",
      "57/57 [==============================] - 29s 508ms/step - loss: 0.0072 - root_mean_squared_error: 0.0846 - val_loss: 0.0073 - val_root_mean_squared_error: 0.0853\n",
      "Epoch 36/50\n",
      "57/57 [==============================] - 33s 581ms/step - loss: 0.0071 - root_mean_squared_error: 0.0845 - val_loss: 0.0073 - val_root_mean_squared_error: 0.0852\n",
      "Epoch 37/50\n",
      "57/57 [==============================] - 30s 518ms/step - loss: 0.0071 - root_mean_squared_error: 0.0845 - val_loss: 0.0073 - val_root_mean_squared_error: 0.0852\n",
      "Epoch 38/50\n",
      "57/57 [==============================] - 32s 562ms/step - loss: 0.0071 - root_mean_squared_error: 0.0844 - val_loss: 0.0073 - val_root_mean_squared_error: 0.0852\n",
      "Epoch 39/50\n",
      "57/57 [==============================] - 31s 548ms/step - loss: 0.0071 - root_mean_squared_error: 0.0843 - val_loss: 0.0072 - val_root_mean_squared_error: 0.0851\n",
      "Epoch 40/50\n",
      "57/57 [==============================] - 33s 578ms/step - loss: 0.0071 - root_mean_squared_error: 0.0843 - val_loss: 0.0072 - val_root_mean_squared_error: 0.0851\n",
      "Epoch 41/50\n",
      "57/57 [==============================] - 28s 486ms/step - loss: 0.0071 - root_mean_squared_error: 0.0842 - val_loss: 0.0072 - val_root_mean_squared_error: 0.0851\n",
      "Epoch 42/50\n",
      "57/57 [==============================] - 27s 474ms/step - loss: 0.0071 - root_mean_squared_error: 0.0842 - val_loss: 0.0072 - val_root_mean_squared_error: 0.0851\n",
      "Epoch 43/50\n",
      "57/57 [==============================] - 27s 473ms/step - loss: 0.0071 - root_mean_squared_error: 0.0841 - val_loss: 0.0072 - val_root_mean_squared_error: 0.0850\n",
      "Epoch 44/50\n",
      "57/57 [==============================] - 27s 476ms/step - loss: 0.0071 - root_mean_squared_error: 0.0840 - val_loss: 0.0072 - val_root_mean_squared_error: 0.0850\n",
      "Epoch 45/50\n",
      "57/57 [==============================] - 27s 476ms/step - loss: 0.0071 - root_mean_squared_error: 0.0840 - val_loss: 0.0072 - val_root_mean_squared_error: 0.0849\n",
      "Epoch 46/50\n",
      "57/57 [==============================] - 27s 477ms/step - loss: 0.0070 - root_mean_squared_error: 0.0839 - val_loss: 0.0072 - val_root_mean_squared_error: 0.0850\n",
      "Epoch 47/50\n",
      "57/57 [==============================] - 27s 476ms/step - loss: 0.0070 - root_mean_squared_error: 0.0839 - val_loss: 0.0072 - val_root_mean_squared_error: 0.0849\n",
      "Epoch 48/50\n",
      "57/57 [==============================] - 27s 475ms/step - loss: 0.0070 - root_mean_squared_error: 0.0838 - val_loss: 0.0072 - val_root_mean_squared_error: 0.0849\n",
      "Epoch 49/50\n",
      "57/57 [==============================] - 27s 474ms/step - loss: 0.0070 - root_mean_squared_error: 0.0838 - val_loss: 0.0072 - val_root_mean_squared_error: 0.0848\n",
      "Epoch 50/50\n",
      "57/57 [==============================] - 28s 487ms/step - loss: 0.0070 - root_mean_squared_error: 0.0837 - val_loss: 0.0072 - val_root_mean_squared_error: 0.0849\n"
     ]
    },
    {
     "name": "stderr",
     "output_type": "stream",
     "text": [
      "WARNING:absl:Found untraced functions such as _jit_compiled_convolution_op, _jit_compiled_convolution_op, _jit_compiled_convolution_op, _jit_compiled_convolution_op, _update_step_xla while saving (showing 5 of 13). These functions will not be directly callable after loading.\n"
     ]
    },
    {
     "name": "stdout",
     "output_type": "stream",
     "text": [
      "INFO:tensorflow:Assets written to: C:/Users/PORTATIL/Desktop/TFG/Prueba Convolucional/model_conv2\\assets\n"
     ]
    },
    {
     "name": "stderr",
     "output_type": "stream",
     "text": [
      "INFO:tensorflow:Assets written to: C:/Users/PORTATIL/Desktop/TFG/Prueba Convolucional/model_conv2\\assets\n"
     ]
    }
   ],
   "source": [
    "# creating the autoencoder\n",
    "npoints_out = x_train.shape[1]*x_train.shape[2]\n",
    "\n",
    "# Build the model\n",
    "\n",
    "batch_size = 64\n",
    "epochs = 50\n",
    "#kernel_init = 'random_normal'\n",
    "#kernel_init = tf.keras.initializers.RandomNormal(mean=0.0, stddev=0.05, seed=0)\n",
    "#bias_init = tf.keras.initializers.Constant(0.05)\n",
    "\n",
    "#Define the model\n",
    "model = tf.keras.models.Sequential([\\\n",
    "    tf.keras.layers.Conv2D(8, kernel_size = (3, 3), padding = 'same', activation = tf.keras.layers.LeakyReLU(), input_shape = input_shape),\\\n",
    "    tf.keras.layers.MaxPooling2D((2,2)),\\\n",
    "    tf.keras.layers.Conv2D(16, (3, 3), padding = 'same', activation = tf.keras.layers.LeakyReLU()),\\\n",
    "    tf.keras.layers.MaxPooling2D((2,2)),\\\n",
    "    tf.keras.layers.Conv2D(32, (3, 3), padding = 'same', activation = tf.keras.layers.LeakyReLU()),\\\n",
    "    tf.keras.layers.MaxPooling2D((2,2)),\\\n",
    "    tf.keras.layers.Conv2D(64, (3, 3), padding = 'same', activation = tf.keras.layers.LeakyReLU()),\\\n",
    "    tf.keras.layers.Flatten(),\\\n",
    "    tf.keras.layers.Dense(npoints_out, activation = 'sigmoid'),\\\n",
    "    tf.keras.layers.Reshape((64, 64, 1))\n",
    "    ])\n",
    "model.summary()\n",
    "\n",
    "loss_function = 'mse'\n",
    "opt = tf.keras.optimizers.Adam(learning_rate= 0.0001, epsilon= 1e-8)\n",
    "\n",
    "model.compile(optimizer=opt, loss=loss_function, metrics=[tf.keras.metrics.RootMeanSquaredError()])\n",
    "\n",
    "if (run_NeuralNetwork):\n",
    "    # Fitting the model\n",
    "    history = model.fit(x_train_conv2D, x_train_conv2D,\n",
    "                  batch_size = batch_size,\n",
    "                  epochs=epochs,\n",
    "                  verbose=1,\n",
    "                  validation_data=(x_val_conv2D, x_val_conv2D))\n",
    "    \n",
    "    #Guardo la history en un array\n",
    "    evolution_loss = np.zeros((len(history.history['loss'])))\n",
    "    evolution_rmse = np.zeros((len(history.history['root_mean_squared_error'])))\n",
    "    evolution_val_loss = np.zeros((len(history.history['val_loss'])))\n",
    "    evolution_val_rmse = np.zeros((len(history.history['val_root_mean_squared_error'])))\n",
    "    \n",
    "    evolution_loss = history.history['loss']\n",
    "    evolution_rmse = history.history['root_mean_squared_error']\n",
    "    evolution_val_loss = history.history['val_loss']\n",
    "    evolution_val_rmse = history.history['val_root_mean_squared_error']\n",
    "    \n",
    "    #Escribe los datos del entrenamiento en un fichero\n",
    "    f = open(\"C:/Users/PORTATIL/Desktop/TFG/Prueba Convolucional/loss_evolution_model_conv2.bin\", \"wb\")\n",
    "    np.save(f, evolution_loss)\n",
    "    np.save(f, evolution_rmse)\n",
    "    np.save(f, evolution_val_loss)\n",
    "    np.save(f, evolution_val_rmse)\n",
    "    f.close()\n",
    "    \n",
    "    #saving the model\n",
    "    model.save('C:/Users/PORTATIL/Desktop/TFG/Prueba Convolucional/model_conv2')\n",
    "else:\n",
    "    # Load the model\n",
    "    model = tf.keras.models.load_model('model1_conv')\n",
    "    model.summary()"
   ]
  },
  {
   "attachments": {},
   "cell_type": "markdown",
   "metadata": {},
   "source": [
    "PLOTTING THE RESULTS: MODEL SUMMARY, SCORE AND PERFORMANCE"
   ]
  },
  {
   "cell_type": "code",
   "execution_count": 9,
   "metadata": {},
   "outputs": [
    {
     "name": "stdout",
     "output_type": "stream",
     "text": [
      "Training loss:  0.0069891344755887985\n",
      "Training rmse:  0.08360104262828827\n",
      "Val loss:  0.007199947256594896\n",
      "Val rmse:  0.08485250174999237\n",
      "Test loss:  0.007148842792958021\n",
      "Test rmse:  0.08455082774162292\n",
      "114/114 [==============================] - 7s 25ms/step\n",
      "13/13 [==============================] - 3s 25ms/step\n",
      "2/2 [==============================] - 1s 14ms/step\n",
      "(4096, 64, 64)\n"
     ]
    }
   ],
   "source": [
    "# Evaluating how good the model is\n",
    "score_train = model.evaluate(x_train_conv2D, x_train_conv2D, verbose=0)\n",
    "score_val = model.evaluate(x_val_conv2D, x_val_conv2D, verbose=0)\n",
    "score_test = model.evaluate(x_test_conv2D, x_test_conv2D, verbose=0)\n",
    "print('Training loss: ', score_train[0])\n",
    "print('Training rmse: ', score_train[1])\n",
    "print('Val loss: ', score_val[0])\n",
    "print('Val rmse: ', score_val[1])\n",
    "print('Test loss: ', score_test[0])\n",
    "print('Test rmse: ', score_test[1])\n",
    "\n",
    "\n",
    "# Predictions\n",
    "x_predict_train= model.predict(x_train_conv2D)\n",
    "x_predict_val= model.predict(x_val_conv2D)\n",
    "x_predict_test= model.predict(x_test_conv2D)\n",
    "\n",
    "images_train = x_train_conv2D.reshape((ntrain, width, height))\n",
    "images_val = x_val_conv2D.reshape((nval, width, height))\n",
    "images_test = x_test_conv2D.reshape((ntest, width, height))\n",
    "\n",
    "images_predict_train = x_predict_train.reshape((ntrain, width, height))\n",
    "images_predict_val = x_predict_val.reshape((nval, width, height))\n",
    "images_predict_test = x_predict_test.reshape((ntest, width, height))\n",
    "\n",
    "#Reordeno los recortes con sus respectivos índices y los guardo en un fichero\n",
    "images_predict = np.concatenate((images_predict_train, images_predict_val, images_predict_test))\n",
    "image_original = np.concatenate((images_train, images_val, images_test))\n",
    "y = np.concatenate((y_train, y_val, y_test))\n",
    "\n",
    "ref = np.zeros((images_predict.shape[0], images_predict.shape[1], images_predict.shape[2]))\n",
    "print(ref.shape)\n",
    "for i in range (len(y)):\n",
    "    min = i\n",
    "    for j in range (len(y)):\n",
    "        if int(y[j]) == min:\n",
    "\n",
    "            minim = y[j]\n",
    "            ref[j] = images_predict[j]\n",
    "\n",
    "            y[j] = y[i]\n",
    "            images_predict[j] = images_predict[i]\n",
    "\n",
    "            y[i] = minim\n",
    "            images_predict[i] = ref[j]\n",
    "\n",
    "filtered_images = images_predict[:,:,:]\n",
    "labels_ordened = y[:]\n",
    "\n",
    "f = open(\"C:/Users/PORTATIL/Desktop/TFG/Prueba Convolucional/data_filtered_reordened_images_model_conv2.bin\", \"wb\")\n",
    "np.save(f, filtered_images)\n",
    "np.save(f, labels_ordened)\n",
    "f.close()"
   ]
  },
  {
   "attachments": {},
   "cell_type": "markdown",
   "metadata": {},
   "source": [
    "RECONSTRUCTION OF THE IMAGES"
   ]
  },
  {
   "cell_type": "code",
   "execution_count": 10,
   "metadata": {},
   "outputs": [
    {
     "data": {
      "image/png": "[encoded data removed]",
      "text/plain": [
       "<Figure size 640x480 with 1 Axes>"
      ]
     },
     "metadata": {},
     "output_type": "display_data"
    },
    {
     "data": {
      "image/png": "[encoded data removed]",
      "text/plain": [
       "<Figure size 640x480 with 1 Axes>"
      ]
     },
     "metadata": {},
     "output_type": "display_data"
    },
    {
     "data": {
      "image/png": "[encoded data removed]",
      "text/plain": [
       "<Figure size 640x480 with 1 Axes>"
      ]
     },
     "metadata": {},
     "output_type": "display_data"
    }
   ],
   "source": [
    "#if(run_NeuralNetwork):\n",
    "#    plot_score(\"C:/Users/PORTATIL/Desktop/TFG/Figuras Definitivas/Autoencoder Conv/Data_Loss\" , history)\n",
    "#    \n",
    "#    n_epochs = np.arange(len(history.history['loss']))\n",
    "#    sgl.GraphData([[n_epochs, history.history['loss']],\n",
    "#                [n_epochs,  history.history['val_loss']]],['r', 'b'], \n",
    "#                ['Train', 'Validation'],'','C:/Users/PORTATIL/Desktop/TFG/Figuras Definitivas/Autoencoder Conv/Loss_model_conv2.png', Axx='$Epochs$', Axy='$Loss$')\n",
    "\n",
    "# Showing some results\n",
    "ind = 0\n",
    "plt.imshow(subimages[ind])\n",
    "#plt.savefig('C:/Users/PORTATIL/Desktop/TFG/Figuras Definitivas/Autoencoder Conv/Original_test_model_conv2.png', bbox_inches='tight')\n",
    "plt.show()\n",
    "plt.imshow(images_predict[ind])\n",
    "#plt.savefig('C:/Users/PORTATIL/Desktop/TFG/Figuras Definitivas/Autoencoder Conv/Reduced_test_model_conv2.png',dpi=200, bbox_inches='tight',  facecolor=\"#f1f1f1\" )\n",
    "plt.show()\n",
    "plt.hist([subimages.flatten(), images_predict.flatten()], bins=100)\n",
    "#plt.savefig('C:/Users/PORTATIL/Desktop/TFG/Figuras Definitivas/Autoencoder Conv/Histogram_test_model_conv2.png',dpi=200, bbox_inches='tight',  facecolor=\"#f1f1f1\" )\n",
    "plt.show()\n",
    "#plot_one_image_and_prediction(subimages[ind], images_predict[ind])\n",
    "#plt.savefig('C:/Users/PORTATIL/Desktop/TFG/Figuras Definitivas/Autoencoder Conv/Comparison_test_model_conv2.png',dpi=200, bbox_inches='tight',  facecolor=\"#f1f1f1\" )\n",
    "#plt.show()"
   ]
  }
 ],
 "metadata": {
  "kernelspec": {
   "display_name": "Python 3",
   "language": "python",
   "name": "python3"
  },
  "language_info": {
   "codemirror_mode": {
    "name": "ipython",
    "version": 3
   },
   "file_extension": ".py",
   "mimetype": "text/x-python",
   "name": "python",
   "nbconvert_exporter": "python",
   "pygments_lexer": "ipython3",
   "version": "3.10.10"
  },
  "orig_nbformat": 4
 },
 "nbformat": 4,
 "nbformat_minor": 2
}
